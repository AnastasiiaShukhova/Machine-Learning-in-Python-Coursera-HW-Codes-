{
 "cells": [
  {
   "cell_type": "markdown",
   "metadata": {},
   "source": [
    "# Programming Assignment 4.4"
   ]
  },
  {
   "cell_type": "code",
   "execution_count": 1,
   "metadata": {
    "collapsed": true
   },
   "outputs": [],
   "source": [
    "from sklearn import metrics\n",
    "import numpy as np\n",
    "import pandas \n"
   ]
  },
  {
   "cell_type": "markdown",
   "metadata": {},
   "source": [
    "Загрузите файл classification.csv. В нем записаны истинные классы объектов выборки (колонка true) и ответы некоторого классификатора (колонка predicted)."
   ]
  },
  {
   "cell_type": "code",
   "execution_count": 4,
   "metadata": {
    "collapsed": false
   },
   "outputs": [
    {
     "name": "stdout",
     "output_type": "stream",
     "text": [
      "   true  pred\n",
      "0     1     0\n",
      "1     1     1\n",
      "2     1     1\n",
      "3     0     0\n",
      "4     1     1\n"
     ]
    }
   ],
   "source": [
    "data = pandas.read_csv('classification.csv')\n",
    "print data.head()"
   ]
  },
  {
   "cell_type": "markdown",
   "metadata": {},
   "source": [
    "Заполните таблицу ошибок классификации"
   ]
  },
  {
   "cell_type": "code",
   "execution_count": 18,
   "metadata": {
    "collapsed": false
   },
   "outputs": [
    {
     "name": "stdout",
     "output_type": "stream",
     "text": [
      "43 34 59 64\n"
     ]
    }
   ],
   "source": [
    "# TP, FN, FP, TN\n",
    "true_positive = len(data[(data['true']== 1) & (data['pred']== 1)]) \n",
    "false_positive = len(data[(data['true']== 0) & (data['pred']== 1)]) \n",
    "false_negative = len(data[(data['true']== 1) & (data['pred']== 0)]) \n",
    "true_negative = len(data[(data['true']== 0) & (data['pred']== 0)]) \n",
    "\n",
    "print true_positive, false_positive, false_negative, true_negative"
   ]
  },
  {
   "cell_type": "markdown",
   "metadata": {},
   "source": [
    "Посчитайте основные метрики качества классификатора:\n",
    "\n",
    "Accuracy (доля верно угаданных) — sklearn.metrics.accuracy_score\n",
    "\n",
    "Precision (точность) — sklearn.metrics.precision_score\n",
    "\n",
    "Recall (полнота) — sklearn.metrics.recall_score\n",
    "\n",
    "F-мера — sklearn.metrics.f1_score\n",
    "\n",
    "В качестве ответа укажите эти четыре числа через пробел."
   ]
  },
  {
   "cell_type": "code",
   "execution_count": 49,
   "metadata": {
    "collapsed": false
   },
   "outputs": [
    {
     "name": "stdout",
     "output_type": "stream",
     "text": [
      "accuracy = 0.535\n",
      "0.535\n",
      "precision = 0.558441558442 0.558441558442\n",
      "recall = 0.421568627451 0.421568627451\n",
      "0.480446927374\n"
     ]
    }
   ],
   "source": [
    "accuracy = np.sum([true_negative,true_positive], dtype = np.float32) /np.sum([true_positive, false_positive, false_negative, true_negative], dtype = np.float32)\n",
    "print \"accuracy =\",accuracy\n",
    "accuracy_1 = metrics.accuracy_score(y_true = data['true'], y_pred = data['pred'] )\n",
    "print accuracy_1\n",
    "precision = true_positive / np.sum([true_positive,false_positive], dtype = np.float32)\n",
    "precision_1 = metrics.precision_score(y_true = data['true'], y_pred = data['pred'] )\n",
    "print \"precision =\",precision, precision_1\n",
    "recall = true_positive / np.sum([true_positive, false_negative], dtype = np.float32)\n",
    "recall_1  = metrics.recall_score(y_true = data['true'], y_pred = data['pred'] )\n",
    "print \"recall =\",recall, recall_1\n",
    "\n",
    "fmera = metrics.f1_score(y_true = data['true'], y_pred = data['pred'] )\n",
    "print fmera"
   ]
  },
  {
   "cell_type": "code",
   "execution_count": 51,
   "metadata": {
    "collapsed": false
   },
   "outputs": [
    {
     "data": {
      "text/html": [
       "<div>\n",
       "<table border=\"1\" class=\"dataframe\">\n",
       "  <thead>\n",
       "    <tr style=\"text-align: right;\">\n",
       "      <th></th>\n",
       "      <th>true</th>\n",
       "      <th>score_logreg</th>\n",
       "      <th>score_svm</th>\n",
       "      <th>score_knn</th>\n",
       "      <th>score_tree</th>\n",
       "    </tr>\n",
       "  </thead>\n",
       "  <tbody>\n",
       "    <tr>\n",
       "      <th>0</th>\n",
       "      <td>0</td>\n",
       "      <td>0.683832</td>\n",
       "      <td>0.145976</td>\n",
       "      <td>0.787063</td>\n",
       "      <td>0.500000</td>\n",
       "    </tr>\n",
       "    <tr>\n",
       "      <th>1</th>\n",
       "      <td>1</td>\n",
       "      <td>0.801966</td>\n",
       "      <td>0.239511</td>\n",
       "      <td>1.000000</td>\n",
       "      <td>0.833333</td>\n",
       "    </tr>\n",
       "    <tr>\n",
       "      <th>2</th>\n",
       "      <td>0</td>\n",
       "      <td>0.382315</td>\n",
       "      <td>-0.245701</td>\n",
       "      <td>0.000000</td>\n",
       "      <td>0.000000</td>\n",
       "    </tr>\n",
       "    <tr>\n",
       "      <th>3</th>\n",
       "      <td>1</td>\n",
       "      <td>0.506797</td>\n",
       "      <td>-0.137058</td>\n",
       "      <td>0.000000</td>\n",
       "      <td>0.105263</td>\n",
       "    </tr>\n",
       "    <tr>\n",
       "      <th>4</th>\n",
       "      <td>1</td>\n",
       "      <td>0.488781</td>\n",
       "      <td>-0.154148</td>\n",
       "      <td>0.000000</td>\n",
       "      <td>0.105263</td>\n",
       "    </tr>\n",
       "  </tbody>\n",
       "</table>\n",
       "</div>"
      ],
      "text/plain": [
       "   true  score_logreg  score_svm  score_knn  score_tree\n",
       "0     0      0.683832   0.145976   0.787063    0.500000\n",
       "1     1      0.801966   0.239511   1.000000    0.833333\n",
       "2     0      0.382315  -0.245701   0.000000    0.000000\n",
       "3     1      0.506797  -0.137058   0.000000    0.105263\n",
       "4     1      0.488781  -0.154148   0.000000    0.105263"
      ]
     },
     "execution_count": 51,
     "metadata": {},
     "output_type": "execute_result"
    }
   ],
   "source": [
    "scores = pandas.read_csv('scores.csv')\n",
    "scores.head()"
   ]
  },
  {
   "cell_type": "markdown",
   "metadata": {},
   "source": [
    "Посчитайте площадь под ROC-кривой для каждого классификатора. Какой классификатор имеет наибольшее значение метрики AUC-ROC (укажите название столбца)? Воспользуйтесь функцией sklearn.metrics.roc_auc_score.\n",
    "\n"
   ]
  },
  {
   "cell_type": "code",
   "execution_count": 53,
   "metadata": {
    "collapsed": false
   },
   "outputs": [
    {
     "name": "stdout",
     "output_type": "stream",
     "text": [
      "logreg 0.71918767507 \n",
      "svm 0.708683473389 \n",
      "knn 0.635154061625 \n",
      "tree 0.691926770708\n"
     ]
    }
   ],
   "source": [
    "logreg = metrics.roc_auc_score(scores['true'], scores['score_logreg'])\n",
    "svm = metrics.roc_auc_score(scores['true'], scores['score_svm'])\n",
    "knn = metrics.roc_auc_score(scores['true'], scores['score_knn'])\n",
    "tree = metrics.roc_auc_score(scores['true'], scores['score_tree'])\n",
    "print \"logreg\", logreg, \"\\n\", \"svm\", svm, \"\\n\", \"knn\", knn, \"\\n\", \"tree\", tree"
   ]
  },
  {
   "cell_type": "markdown",
   "metadata": {},
   "source": [
    " Какой классификатор достигает наибольшей точности (Precision) при полноте (Recall) не менее 70% ?\n",
    "\n",
    "Чтобы получить ответ на этот вопрос, найдите все точки precision-recall-кривой с помощью функции sklearn.metrics.precision_recall_curve. Она возвращает три массива: precision, recall, thresholds. В них записаны точность и полнота при определенных порогах, указанных в массиве thresholds. Найдите максимальной значение точности среди тех записей, для которых полнота не меньше, чем 0.7."
   ]
  },
  {
   "cell_type": "code",
   "execution_count": 72,
   "metadata": {
    "collapsed": false
   },
   "outputs": [
    {
     "name": "stdout",
     "output_type": "stream",
     "text": [
      "logreg 0.63025210084 \n",
      "\n",
      "svm 0.622807017544 \n",
      "\n",
      "knn 0.606557377049 \n",
      "\n",
      "tree 0.651785714286 \n",
      "\n"
     ]
    }
   ],
   "source": [
    "logreg_pres, logreg_recall, logreg_thresholds = metrics.precision_recall_curve(scores['true'], scores['score_logreg'])\n",
    "svm_pres, svm_recall, svm_thresholds = metrics.precision_recall_curve(scores['true'], scores['score_svm'])\n",
    "knn_pres, knn_recall, knn_thresholds= metrics.precision_recall_curve(scores['true'], scores['score_knn'])\n",
    "tree_pres, tree_recall, tree_thresholds = metrics.precision_recall_curve(scores['true'], scores['score_tree'])\n",
    "print 'logreg', np.max(logreg_pres[logreg_recall>0.70]), \"\\n\"\n",
    "print 'svm', np.max(svm_pres[svm_recall>0.70]), \"\\n\"\n",
    "print 'knn', np.max(knn_pres[knn_recall>0.70]), \"\\n\"\n",
    "print 'tree', np.max(tree_pres[tree_recall>0.70]), \"\\n\""
   ]
  },
  {
   "cell_type": "code",
   "execution_count": null,
   "metadata": {
    "collapsed": false
   },
   "outputs": [],
   "source": []
  },
  {
   "cell_type": "code",
   "execution_count": null,
   "metadata": {
    "collapsed": true
   },
   "outputs": [],
   "source": []
  }
 ],
 "metadata": {
  "anaconda-cloud": {},
  "kernelspec": {
   "display_name": "Python [Root]",
   "language": "python",
   "name": "Python [Root]"
  },
  "language_info": {
   "codemirror_mode": {
    "name": "ipython",
    "version": 2
   },
   "file_extension": ".py",
   "mimetype": "text/x-python",
   "name": "python",
   "nbconvert_exporter": "python",
   "pygments_lexer": "ipython2",
   "version": "2.7.12"
  }
 },
 "nbformat": 4,
 "nbformat_minor": 0
}
