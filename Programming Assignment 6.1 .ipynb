{
 "cells": [
  {
   "cell_type": "markdown",
   "metadata": {},
   "source": [
    "# Programming Assignment 6.1 "
   ]
  },
  {
   "cell_type": "code",
   "execution_count": 2,
   "metadata": {
    "collapsed": true
   },
   "outputs": [],
   "source": [
    "import numpy as np\n",
    "import pandas\n",
    "from sklearn import metrics\n",
    "from sklearn.ensemble import RandomForestRegressor\n",
    "from sklearn.cross_validation import KFold"
   ]
  },
  {
   "cell_type": "markdown",
   "metadata": {},
   "source": [
    "Загрузите данные из файла abalone.csv. Это датасет, в котором требуется предсказать возраст ракушки (число колец) по физическим измерениям."
   ]
  },
  {
   "cell_type": "code",
   "execution_count": 52,
   "metadata": {
    "collapsed": false
   },
   "outputs": [
    {
     "data": {
      "text/html": [
       "<div>\n",
       "<table border=\"1\" class=\"dataframe\">\n",
       "  <thead>\n",
       "    <tr style=\"text-align: right;\">\n",
       "      <th></th>\n",
       "      <th>Sex</th>\n",
       "      <th>Length</th>\n",
       "      <th>Diameter</th>\n",
       "      <th>Height</th>\n",
       "      <th>WholeWeight</th>\n",
       "      <th>ShuckedWeight</th>\n",
       "      <th>VisceraWeight</th>\n",
       "      <th>ShellWeight</th>\n",
       "      <th>Rings</th>\n",
       "    </tr>\n",
       "  </thead>\n",
       "  <tbody>\n",
       "    <tr>\n",
       "      <th>0</th>\n",
       "      <td>M</td>\n",
       "      <td>0.455</td>\n",
       "      <td>0.365</td>\n",
       "      <td>0.095</td>\n",
       "      <td>0.5140</td>\n",
       "      <td>0.2245</td>\n",
       "      <td>0.1010</td>\n",
       "      <td>0.150</td>\n",
       "      <td>15</td>\n",
       "    </tr>\n",
       "    <tr>\n",
       "      <th>1</th>\n",
       "      <td>M</td>\n",
       "      <td>0.350</td>\n",
       "      <td>0.265</td>\n",
       "      <td>0.090</td>\n",
       "      <td>0.2255</td>\n",
       "      <td>0.0995</td>\n",
       "      <td>0.0485</td>\n",
       "      <td>0.070</td>\n",
       "      <td>7</td>\n",
       "    </tr>\n",
       "    <tr>\n",
       "      <th>2</th>\n",
       "      <td>F</td>\n",
       "      <td>0.530</td>\n",
       "      <td>0.420</td>\n",
       "      <td>0.135</td>\n",
       "      <td>0.6770</td>\n",
       "      <td>0.2565</td>\n",
       "      <td>0.1415</td>\n",
       "      <td>0.210</td>\n",
       "      <td>9</td>\n",
       "    </tr>\n",
       "    <tr>\n",
       "      <th>3</th>\n",
       "      <td>M</td>\n",
       "      <td>0.440</td>\n",
       "      <td>0.365</td>\n",
       "      <td>0.125</td>\n",
       "      <td>0.5160</td>\n",
       "      <td>0.2155</td>\n",
       "      <td>0.1140</td>\n",
       "      <td>0.155</td>\n",
       "      <td>10</td>\n",
       "    </tr>\n",
       "    <tr>\n",
       "      <th>4</th>\n",
       "      <td>I</td>\n",
       "      <td>0.330</td>\n",
       "      <td>0.255</td>\n",
       "      <td>0.080</td>\n",
       "      <td>0.2050</td>\n",
       "      <td>0.0895</td>\n",
       "      <td>0.0395</td>\n",
       "      <td>0.055</td>\n",
       "      <td>7</td>\n",
       "    </tr>\n",
       "  </tbody>\n",
       "</table>\n",
       "</div>"
      ],
      "text/plain": [
       "  Sex  Length  Diameter  Height  WholeWeight  ShuckedWeight  VisceraWeight  \\\n",
       "0   M   0.455     0.365   0.095       0.5140         0.2245         0.1010   \n",
       "1   M   0.350     0.265   0.090       0.2255         0.0995         0.0485   \n",
       "2   F   0.530     0.420   0.135       0.6770         0.2565         0.1415   \n",
       "3   M   0.440     0.365   0.125       0.5160         0.2155         0.1140   \n",
       "4   I   0.330     0.255   0.080       0.2050         0.0895         0.0395   \n",
       "\n",
       "   ShellWeight  Rings  \n",
       "0        0.150     15  \n",
       "1        0.070      7  \n",
       "2        0.210      9  \n",
       "3        0.155     10  \n",
       "4        0.055      7  "
      ]
     },
     "execution_count": 52,
     "metadata": {},
     "output_type": "execute_result"
    }
   ],
   "source": [
    "data = pandas.read_csv('abalone.csv')\n",
    "data.head()\n"
   ]
  },
  {
   "cell_type": "markdown",
   "metadata": {},
   "source": [
    "Преобразуйте признак Sex в числовой: значение F должно перейти в -1, I — в 0, M — в 1. Если вы используете Pandas, то подойдет следующий код: data['Sex'] = data['Sex'].map(lambda x: 1 if x == 'M' else (-1 if x == 'F' else 0))"
   ]
  },
  {
   "cell_type": "code",
   "execution_count": 53,
   "metadata": {
    "collapsed": false
   },
   "outputs": [
    {
     "name": "stdout",
     "output_type": "stream",
     "text": [
      "  Sex  Length  Diameter  Height  WholeWeight  ShuckedWeight  VisceraWeight  \\\n",
      "0   1   0.455     0.365   0.095       0.5140         0.2245         0.1010   \n",
      "1   1   0.350     0.265   0.090       0.2255         0.0995         0.0485   \n",
      "2  -1   0.530     0.420   0.135       0.6770         0.2565         0.1415   \n",
      "3   1   0.440     0.365   0.125       0.5160         0.2155         0.1140   \n",
      "4   0   0.330     0.255   0.080       0.2050         0.0895         0.0395   \n",
      "\n",
      "   ShellWeight  Rings  \n",
      "0        0.150     15  \n",
      "1        0.070      7  \n",
      "2        0.210      9  \n",
      "3        0.155     10  \n",
      "4        0.055      7  \n"
     ]
    }
   ],
   "source": [
    "#data['Sex'] = data['Sex'].map(lambda x: 1 if x == 'M' else (-1 if x == 'F' else 0))\n",
    "data['Sex'] = data['Sex'].replace('M', '1', regex = True)\n",
    "data['Sex'] = data['Sex'].replace('F', '-1', regex = True)\n",
    "data['Sex'] = data['Sex'].replace('I', '0', regex = True)\n",
    "print data.head()"
   ]
  },
  {
   "cell_type": "markdown",
   "metadata": {},
   "source": [
    "Разделите содержимое файлов на признаки и целевую переменную. В последнем столбце записана целевая переменная, в остальных — признаки."
   ]
  },
  {
   "cell_type": "code",
   "execution_count": 108,
   "metadata": {
    "collapsed": false
   },
   "outputs": [
    {
     "data": {
      "text/plain": [
       "(4177,)"
      ]
     },
     "execution_count": 108,
     "metadata": {},
     "output_type": "execute_result"
    }
   ],
   "source": [
    "X = data.iloc[ : , :-1]\n",
    "y = data.iloc[: , 8:].values\n",
    "y = y.ravel()\n",
    "y.shape\n"
   ]
  },
  {
   "cell_type": "markdown",
   "metadata": {},
   "source": [
    "Обучите случайный лес (sklearn.ensemble.RandomForestRegressor) с различным числом деревьев: от 1 до 50 (не забудьте выставить \"random_state=1\" в конструкторе). Для каждого из вариантов оцените качество работы полученного леса на кросс-валидации по 5 блокам. Используйте параметры \"random_state=1\" и \"shuffle=True\" при создании генератора кросс-валидации sklearn.cross_validation.KFold. В качестве меры качества воспользуйтесь коэффициентом детерминации (sklearn.metrics.r2_score)."
   ]
  },
  {
   "cell_type": "code",
   "execution_count": 110,
   "metadata": {
    "collapsed": false
   },
   "outputs": [],
   "source": [
    "num_trees = np.arange(start = 1, stop = 51)\n",
    "scores_across_n = pandas.DataFrame(data = None, columns = ['r2'])\n",
    "\n",
    "kfold = cross_validation.KFold(len(data.values), n_folds= 5, shuffle = True, random_state = 1)\n",
    "\n",
    "for i in num_trees:\n",
    "    RF = RandomForestRegressor(n_estimators = i, random_state = 1)\n",
    "    RF.fit(X, y)\n",
    "    scores = cross_validation.cross_val_score(RF, X, y, cv = kfold, scoring = 'r2')\n",
    "    #print scores\n",
    "    scores_across_n.loc[i] = np.mean(scores)\n",
    "    \n",
    "    \n",
    "    \n"
   ]
  },
  {
   "cell_type": "markdown",
   "metadata": {},
   "source": [
    "Определите, при каком минимальном количестве деревьев случайный лес показывает качество на кросс-валидации выше 0.52. Это количество и будет ответом на задание."
   ]
  },
  {
   "cell_type": "code",
   "execution_count": 111,
   "metadata": {
    "collapsed": false
   },
   "outputs": [
    {
     "name": "stdout",
     "output_type": "stream",
     "text": [
      "          r2\n",
      "1   0.102139\n",
      "2   0.338417\n",
      "3   0.403580\n",
      "4   0.442722\n",
      "5   0.464021\n",
      "6   0.470582\n",
      "7   0.475831\n",
      "8   0.481742\n",
      "9   0.488348\n",
      "10  0.494464\n",
      "11  0.493397\n",
      "12  0.497966\n",
      "13  0.502136\n",
      "14  0.506429\n",
      "15  0.508331\n",
      "16  0.510513\n",
      "17  0.513848\n",
      "18  0.516328\n",
      "19  0.519035\n",
      "20  0.518674\n",
      "21  0.519835\n",
      "22  0.520158\n",
      "23  0.521017\n",
      "24  0.522403\n",
      "25  0.522617\n",
      "26  0.523806\n",
      "27  0.524122\n",
      "28  0.525054\n",
      "29  0.525970\n",
      "30  0.526538\n",
      "31  0.527100\n",
      "32  0.528389\n",
      "33  0.529617\n",
      "34  0.529564\n",
      "35  0.529517\n",
      "36  0.529600\n",
      "37  0.529131\n",
      "38  0.529160\n",
      "39  0.529241\n",
      "40  0.529067\n",
      "41  0.529342\n",
      "42  0.529573\n",
      "43  0.529375\n",
      "44  0.529119\n",
      "45  0.528375\n",
      "46  0.528520\n",
      "47  0.528705\n",
      "48  0.529613\n",
      "49  0.530394\n",
      "50  0.530596\n"
     ]
    }
   ],
   "source": [
    "print scores_across_n"
   ]
  },
  {
   "cell_type": "markdown",
   "metadata": {},
   "source": [
    "Обратите внимание на изменение качества по мере роста числа деревьев. Ухудшается ли оно?"
   ]
  },
  {
   "cell_type": "markdown",
   "metadata": {},
   "source": [
    "Нет, оно и не может ухудшаться"
   ]
  },
  {
   "cell_type": "code",
   "execution_count": null,
   "metadata": {
    "collapsed": true
   },
   "outputs": [],
   "source": []
  }
 ],
 "metadata": {
  "kernelspec": {
   "display_name": "Python [Root]",
   "language": "python",
   "name": "Python [Root]"
  },
  "language_info": {
   "codemirror_mode": {
    "name": "ipython",
    "version": 2
   },
   "file_extension": ".py",
   "mimetype": "text/x-python",
   "name": "python",
   "nbconvert_exporter": "python",
   "pygments_lexer": "ipython2",
   "version": "2.7.12"
  }
 },
 "nbformat": 4,
 "nbformat_minor": 0
}
