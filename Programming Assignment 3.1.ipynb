{
 "cells": [
  {
   "cell_type": "markdown",
   "metadata": {},
   "source": [
    "# Programming Assignment 3.1"
   ]
  },
  {
   "cell_type": "code",
   "execution_count": 157,
   "metadata": {
    "collapsed": true
   },
   "outputs": [],
   "source": [
    "import pandas\n",
    "import numpy as np\n",
    "import csv\n",
    "from sklearn import cross_validation\n",
    "from sklearn import metrics\n",
    "from sklearn import neighbors, datasets, preprocessing"
   ]
  },
  {
   "cell_type": "markdown",
   "metadata": {},
   "source": [
    "Загрузите выборку Wine"
   ]
  },
  {
   "cell_type": "code",
   "execution_count": 158,
   "metadata": {
    "collapsed": false
   },
   "outputs": [],
   "source": [
    "names = pandas.read_csv('wine_attributes.csv')\n",
    "names = names[[0]].values[0:]\n",
    "data = pandas.read_csv('wine.csv', header = None)\n",
    "data.rename(columns = {0: 'type_wine'}, inplace=True)\n",
    "for i in xrange(len(data.columns[1:])):\n",
    "    data.rename(columns = {i+1 : str(names[[i]][0][0])}, inplace=True)\n",
    "\n",
    "#print.data.head()"
   ]
  },
  {
   "cell_type": "markdown",
   "metadata": {
    "collapsed": true
   },
   "source": [
    "Оценку качества необходимо провести методом кросс-валидации по 5 блокам (5-fold). Создайте генератор разбиений, который перемешивает выборку перед формированием блоков (shuffle=True). Для воспроизводимости результата, создавайте генератор KFold с фиксированным параметром random_state=42. В качестве меры качества используйте долю верных ответов (accuracy).\n",
    "\n"
   ]
  },
  {
   "cell_type": "code",
   "execution_count": 151,
   "metadata": {
    "collapsed": false
   },
   "outputs": [],
   "source": [
    "kfold = cross_validation.KFold(len(data.values), n_folds= 5, shuffle = True, random_state = 42)\n",
    "#print kfold"
   ]
  },
  {
   "cell_type": "markdown",
   "metadata": {
    "collapsed": true
   },
   "source": [
    "Найдите точность классификации на кросс-валидации для метода k ближайших соседей (sklearn.neighbors.KNeighborsClassifier), при k от 1 до 50. При каком k получилось оптимальное качество? Чему оно равно (число в интервале от 0 до 1)? Данные результаты и будут ответами на вопросы 1 и 2."
   ]
  },
  {
   "cell_type": "code",
   "execution_count": 152,
   "metadata": {
    "collapsed": false
   },
   "outputs": [
    {
     "name": "stdout",
     "output_type": "stream",
     "text": [
      "   mean_scores\n",
      "1     0.730476\n"
     ]
    }
   ],
   "source": [
    "accuracy_across_k = pandas.DataFrame(columns=['mean_scores'])\n",
    "\n",
    "for k in xrange(1, 51):\n",
    "    kneighbors = neighbors.KNeighborsClassifier(n_neighbors = k)\n",
    "    X = data.iloc[ : , 1:]\n",
    "    kneighbors.fit(X, data['type_wine'])\n",
    "    scores = cross_validation.cross_val_score(kneighbors, X, data['type_wine'], cv = kfold)\n",
    "    mean_scores = sum(scores)/len(scores)\n",
    "    df =  pandas.DataFrame(mean_scores, columns=['mean_scores'], index = [k])\n",
    "    accuracy_across_k = accuracy_across_k.append(df)\n",
    "\n",
    "print accuracy_across_k[accuracy_across_k['mean_scores'] == accuracy_across_k['mean_scores'].max()]"
   ]
  },
  {
   "cell_type": "markdown",
   "metadata": {
    "collapsed": false
   },
   "source": [
    "Произведите масштабирование признаков с помощью функции sklearn.preprocessing.scale. Снова найдите оптимальное k на кросс-валидации.\n"
   ]
  },
  {
   "cell_type": "code",
   "execution_count": 156,
   "metadata": {
    "collapsed": false
   },
   "outputs": [
    {
     "name": "stdout",
     "output_type": "stream",
     "text": [
      "    mean_scores\n",
      "29     0.977619\n"
     ]
    }
   ],
   "source": [
    "X_scaled = preprocessing.scale(X)\n",
    "accuracy_across_k = pandas.DataFrame(columns=['mean_scores'])\n",
    "for k in xrange(1, 51):\n",
    "    kneighbors = neighbors.KNeighborsClassifier(n_neighbors = k)\n",
    "    scores = cross_validation.cross_val_score(kneighbors, X_scaled, data['type_wine'], cv = kfold )\n",
    "    mean_scores = sum(scores)/len(scores)\n",
    "    df =  pandas.DataFrame(mean_scores, columns=['mean_scores'], index = [k])\n",
    "    accuracy_across_k = accuracy_across_k.append(df)\n",
    "\n",
    "print accuracy_across_k[accuracy_across_k['mean_scores'] == accuracy_across_k['mean_scores'].max()]\n"
   ]
  },
  {
   "cell_type": "code",
   "execution_count": null,
   "metadata": {
    "collapsed": false
   },
   "outputs": [],
   "source": []
  },
  {
   "cell_type": "code",
   "execution_count": null,
   "metadata": {
    "collapsed": true
   },
   "outputs": [],
   "source": []
  }
 ],
 "metadata": {
  "kernelspec": {
   "display_name": "Python [Root]",
   "language": "python",
   "name": "Python [Root]"
  },
  "language_info": {
   "codemirror_mode": {
    "name": "ipython",
    "version": 2
   },
   "file_extension": ".py",
   "mimetype": "text/x-python",
   "name": "python",
   "nbconvert_exporter": "python",
   "pygments_lexer": "ipython2",
   "version": "2.7.12"
  }
 },
 "nbformat": 4,
 "nbformat_minor": 0
}
