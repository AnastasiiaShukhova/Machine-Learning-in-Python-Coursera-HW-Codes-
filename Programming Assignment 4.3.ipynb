{
 "cells": [
  {
   "cell_type": "markdown",
   "metadata": {},
   "source": [
    "# Programming Assignment 4.3"
   ]
  },
  {
   "cell_type": "code",
   "execution_count": 271,
   "metadata": {
    "collapsed": false
   },
   "outputs": [],
   "source": [
    "import numpy as np\n",
    "import pandas \n",
    "from scipy.spatial.distance import euclidean \n",
    "from sklearn.metrics import roc_auc_score as roc\n"
   ]
  },
  {
   "cell_type": "markdown",
   "metadata": {},
   "source": [
    "Загрузите данные из файла data-logistic.csv. Это двумерная выборка, целевая переменная на которой принимает значения -1 или 1."
   ]
  },
  {
   "cell_type": "code",
   "execution_count": 4,
   "metadata": {
    "collapsed": false
   },
   "outputs": [
    {
     "data": {
      "text/html": [
       "<div>\n",
       "<table border=\"1\" class=\"dataframe\">\n",
       "  <thead>\n",
       "    <tr style=\"text-align: right;\">\n",
       "      <th></th>\n",
       "      <th>0</th>\n",
       "      <th>1</th>\n",
       "      <th>2</th>\n",
       "    </tr>\n",
       "  </thead>\n",
       "  <tbody>\n",
       "    <tr>\n",
       "      <th>0</th>\n",
       "      <td>-1</td>\n",
       "      <td>-0.663827</td>\n",
       "      <td>-0.138526</td>\n",
       "    </tr>\n",
       "    <tr>\n",
       "      <th>1</th>\n",
       "      <td>1</td>\n",
       "      <td>1.994596</td>\n",
       "      <td>2.468025</td>\n",
       "    </tr>\n",
       "    <tr>\n",
       "      <th>2</th>\n",
       "      <td>-1</td>\n",
       "      <td>-1.247395</td>\n",
       "      <td>0.749425</td>\n",
       "    </tr>\n",
       "    <tr>\n",
       "      <th>3</th>\n",
       "      <td>1</td>\n",
       "      <td>2.309374</td>\n",
       "      <td>1.899836</td>\n",
       "    </tr>\n",
       "    <tr>\n",
       "      <th>4</th>\n",
       "      <td>1</td>\n",
       "      <td>0.849143</td>\n",
       "      <td>2.407750</td>\n",
       "    </tr>\n",
       "  </tbody>\n",
       "</table>\n",
       "</div>"
      ],
      "text/plain": [
       "   0         1         2\n",
       "0 -1 -0.663827 -0.138526\n",
       "1  1  1.994596  2.468025\n",
       "2 -1 -1.247395  0.749425\n",
       "3  1  2.309374  1.899836\n",
       "4  1  0.849143  2.407750"
      ]
     },
     "execution_count": 4,
     "metadata": {},
     "output_type": "execute_result"
    }
   ],
   "source": [
    "data = pandas.read_csv('data_logistic.csv', header = None)\n",
    "print data.head()"
   ]
  },
  {
   "cell_type": "markdown",
   "metadata": {},
   "source": [
    "Убедитесь, что выше выписаны правильные формулы для градиентного спуска. Обратите внимание, что мы используем полноценный градиентный спуск, а не его стохастический вариант!"
   ]
  },
  {
   "cell_type": "markdown",
   "metadata": {},
   "source": [
    "Реализуйте градиентный спуск для обычной и L2-регуляризованной (с коэффициентом регуляризации 10) логистической регрессии. Используйте длину шага k=0.1. В качестве начального приближения используйте вектор (0, 0). Запустите градиентный спуск и доведите до сходимости (евклидово расстояние между векторами весов на соседних итерациях должно быть не больше 1e-5). Рекомендуется ограничить сверху число итераций десятью тысячами.\n"
   ]
  },
  {
   "cell_type": "code",
   "execution_count": 275,
   "metadata": {
    "collapsed": true
   },
   "outputs": [],
   "source": [
    "def loglik(y, x1, x2, weights, x1_der = False, C = 0, k =0.1):\n",
    "    if x1_der:\n",
    "        lnLik_vector = []\n",
    "        for i in xrange(len(y)):\n",
    "            lnLik_i = y[i]*x1[i]*(1 - 1.0/(1+math.exp(-y[i]*(weights[0]*x1[i]+weights[1]*x2[i])))) - k*C*weights[0]\n",
    "            lnLik_vector.append(lnLik_i)\n",
    "    else:\n",
    "        lnLik_vector = []\n",
    "        for i in xrange(len(y)):\n",
    "            lnLik_i = y[i]*x2[i]*(1 - 1.0/(1+math.exp(-y[i]*(weights[0]*x1[i]+weights[1]*x2[i])))) - k*C*weights[1]\n",
    "            lnLik_vector.append(lnLik_i)\n",
    "    return(sum(lnLik_vector))\n",
    "\n",
    "def gradient_descent(y, x1, x2, k = 0.1, start = [0.0, 0.0], L2 = False, max_iter = 10000):\n",
    "    if L2 == False :\n",
    "        current_iter = 0 \n",
    "        n_obs = len(y)\n",
    "        w1 = start[0]\n",
    "        w2 = start[1]\n",
    "        while current_iter < max_iter:\n",
    "            weights_previous = np.array([w1, w2])\n",
    "            w1 = w1 + k*(1.0/n_obs)*loglik(y, x1, x2, weights = weights_previous, x1_der = True)\n",
    "            w2 = w2 + k*(1.0/n_obs)*loglik(y, x1, x2, weights = weights_previous, x1_der = False)\n",
    "            current_iter += 1 \n",
    "            weights_current = np.array([w1, w2])\n",
    "            if euclid(weights_current, weights_previous) < pow(10, -5):\n",
    "                print 'Euclid:', euclid(weights_current, weights_previous)\n",
    "                break \n",
    "    if L2:\n",
    "        current_iter = 0 \n",
    "        n_obs = len(y)\n",
    "        w1 = start[0]\n",
    "        w2 = start[1]\n",
    "        while current_iter < max_iter:\n",
    "            weights_previous = np.array([w1, w2])\n",
    "            w1 = w1 + k*(1.0/n_obs)*loglik(y, x1, x2, weights = weights_previous, x1_der = True, C = 10) \n",
    "            w2 = w2 + k*(1.0/n_obs)*loglik(y, x1, x2, weights = weights_previous, x1_der = False, C = 10)\n",
    "            current_iter += 1 \n",
    "            weights_current = np.array([w1, w2])\n",
    "            if euclid(weights_current, weights_previous) < pow(10, -5):\n",
    "                #print 'Euclid:', euclid(weights_current, weights_previous)\n",
    "                break \n",
    "    \n",
    "    return(weights_current)\n",
    "\n",
    "    \n",
    "            "
   ]
  },
  {
   "cell_type": "code",
   "execution_count": 270,
   "metadata": {
    "collapsed": false
   },
   "outputs": [
    {
     "name": "stdout",
     "output_type": "stream",
     "text": [
      "Euclid: 9.80234978163e-06\n",
      "(array([ 0.28781162,  0.0919833 ]), 244)\n",
      "CPU times: user 9.69 s, sys: 141 ms, total: 9.83 s\n",
      "Wall time: 9.87 s\n",
      "Euclid: 8.98732633015e-06\n",
      "(array([ 0.12328347,  0.08684528]), 45)\n",
      "CPU times: user 1.9 s, sys: 71 ms, total: 1.97 s\n",
      "Wall time: 1.97 s\n"
     ]
    }
   ],
   "source": [
    "%time print gradient_descent(data[0], data[1], data[2], k = 0.1, start = [0.0, 0.0], L2 = False, max_iter = 1000)\n",
    "%time print gradient_descent(data[0], data[1], data[2], k = 0.1, start = [0.0, 0.0], L2 = True, max_iter = 1000, C = 10)"
   ]
  },
  {
   "cell_type": "markdown",
   "metadata": {},
   "source": [
    "Какое значение принимает AUC-ROC на обучении без регуляризации и при ее использовании? Эти величины будут ответом на задание. В качестве ответа приведите два числа через пробел. Обратите внимание, что на вход функции roc_auc_score нужно подавать оценки вероятностей, подсчитанные обученным алгоритмом. Для этого воспользуйтесь сигмоидной функцией: a(x) = 1 / (1 + exp(-w1 x1 - w2 x2))."
   ]
  },
  {
   "cell_type": "code",
   "execution_count": 284,
   "metadata": {
    "collapsed": false
   },
   "outputs": [
    {
     "name": "stdout",
     "output_type": "stream",
     "text": [
      "Euclid: 9.80234978163e-06\n"
     ]
    }
   ],
   "source": [
    "predval_noreg = []\n",
    "x1 = data[1]\n",
    "x2 = data[2]\n",
    "weights_noreg = gradient_descent(data[0], data[1], data[2], k = 0.1, start = [0.0, 0.0], L2 = False, max_iter = 1000)\n",
    "\n",
    "for i in xrange(len(y)):\n",
    "    predval_noreg.append(1/(1+(math.exp(-weights_noreg[0]*x1[i] - weights_noreg[1]*x2[i]))))\n",
    "\n",
    "weights_reg = gradient_descent(data[0], data[1], data[2], k = 0.1, start = [0.0, 0.0], L2 = True, max_iter = 1000)\n",
    "predval_reg = []\n",
    "for i in xrange(len(y)):\n",
    "    predval_reg.append(1/(1+(math.exp(-weights_reg[0]*x1[i] - weights_reg[1]*x2[i]))))\n",
    "\n"
   ]
  },
  {
   "cell_type": "code",
   "execution_count": 285,
   "metadata": {
    "collapsed": false
   },
   "outputs": [
    {
     "name": "stdout",
     "output_type": "stream",
     "text": [
      "0.926857142857 0.937047619048\n"
     ]
    }
   ],
   "source": [
    "roc1 = roc(y_true = data[0], y_score = predval_noreg)\n",
    "roc2 = roc(y_true = data[0], y_score = predval_reg)\n",
    "print roc1, roc2"
   ]
  },
  {
   "cell_type": "code",
   "execution_count": null,
   "metadata": {
    "collapsed": true
   },
   "outputs": [],
   "source": []
  },
  {
   "cell_type": "code",
   "execution_count": null,
   "metadata": {
    "collapsed": true
   },
   "outputs": [],
   "source": []
  },
  {
   "cell_type": "code",
   "execution_count": 244,
   "metadata": {
    "collapsed": true
   },
   "outputs": [],
   "source": [
    "def euclid(x1, x2):\n",
    "    values_to_sum = []\n",
    "    for i in xrange(len(x1)):\n",
    "        values_to_sum.append(pow((x1[i]-x2[i]),2))\n",
    "    total = np.sqrt(sum(values_to_sum))\n",
    "    return(total)\n",
    "\n",
    "def partial_derivative_lnLik(y, x1, x2, weights, x1_der = False):\n",
    "    if x1_der:\n",
    "        X = pandas.DataFrame([x1, x2]).as_matrix() # shape 2 * n\n",
    "        w_X = weights.dot(X)\n",
    "        inner_part_denominator_before_exp = - np.transpose(y).dot(w_X)\n",
    "        inner_part_denominator = 1 + np.exp(inner_part_denominator_before_exp)\n",
    "        part1 = 1 - (1.0/inner_part_denominator)\n",
    "        total = np.transpose(y).dot(x1.as_matrix())*part1\n",
    "    else: \n",
    "        X = pandas.DataFrame([x1, x2]).as_matrix() # shape 2 * n\n",
    "        w_X = weights.dot(X)\n",
    "        inner_part_denominator_before_exp = - np.transpose(y).dot(w_X)\n",
    "        inner_part_denominator = 1 + np.exp(inner_part_denominator_before_exp)\n",
    "        part1 = 1 - (1.0/inner_part_denominator)\n",
    "        total = np.transpose(y).dot(x2.as_matrix())* part1\n",
    "    return(total)\n",
    "\n",
    "def gradient_descent(y, x1, x2, k = 0.1, start = [0.0, 0.0], L2 = False, max_iter = 10000):\n",
    "    if L2 == False :\n",
    "        current_iter = 0 \n",
    "        n_obs = len(y)\n",
    "        w1 = start[0]\n",
    "        w2 = start[1]\n",
    "        while current_iter < max_iter:\n",
    "            weights_previous = np.array([w1, w2])\n",
    "            w1 = w1 + k*(1.0/n_obs)*partial_derivative_lnLik(y, x1, x2, weights = weights_previous, x1_der = True)\n",
    "            w2 = w2 + k*(1.0/n_obs)*partial_derivative_lnLik(y, x1, x2, weights = weights_previous, x1_der = False)\n",
    "            current_iter += 1 \n",
    "            weights_current = np.array([w1, w2])\n",
    "            if euclid(weights_current, weights_previous) < pow(10, -9):\n",
    "                print 'Euclid:', euclid(weights_current, weights_previous)\n",
    "                break \n",
    "    if L2:\n",
    "        current_iter = 0 \n",
    "        n_obs = len(y)\n",
    "        w1 = start[0]\n",
    "        w2 = start[1]\n",
    "        while current_iter < max_iter:\n",
    "            weights_previous = np.array([w1, w2])\n",
    "            w1 = w1 + k*(1.0/n_obs)*partial_derivative_lnLik(y, x1, x2, weights = weights_previous, x1_der = True)\n",
    "            w2 = w2 + k*(1.0/n_obs)*partial_derivative_lnLik(y, x1, x2, weights = weights_previous, x1_der = False)\n",
    "            current_iter += 1 \n",
    "            weights_current = np.array([w1, w2])\n",
    "            if euclid(weights_current, weights_previous) < pow(10, -9):\n",
    "                print 'Euclid:', euclid(weights_current, weights_previous)\n",
    "                break \n",
    "    \n",
    "    return(weights_current, current_iter)\n"
   ]
  },
  {
   "cell_type": "code",
   "execution_count": null,
   "metadata": {
    "collapsed": true
   },
   "outputs": [],
   "source": []
  },
  {
   "cell_type": "markdown",
   "metadata": {},
   "source": []
  },
  {
   "cell_type": "code",
   "execution_count": null,
   "metadata": {
    "collapsed": true
   },
   "outputs": [],
   "source": []
  },
  {
   "cell_type": "code",
   "execution_count": null,
   "metadata": {
    "collapsed": true
   },
   "outputs": [],
   "source": []
  },
  {
   "cell_type": "code",
   "execution_count": null,
   "metadata": {
    "collapsed": true
   },
   "outputs": [],
   "source": []
  },
  {
   "cell_type": "code",
   "execution_count": 245,
   "metadata": {
    "collapsed": false
   },
   "outputs": [
    {
     "name": "stdout",
     "output_type": "stream",
     "text": [
      "(array([ 0.04574334,  0.04155541]), 10000)\n",
      "CPU times: user 1min 31s, sys: 292 ms, total: 1min 31s\n",
      "Wall time: 1min 32s\n"
     ]
    }
   ],
   "source": [
    "%time print gradient_descent(data[0], data[1], data[2], k = 0.1, start = [0.0, 0.0], L2 = False, max_iter = 1000)\n"
   ]
  },
  {
   "cell_type": "code",
   "execution_count": 257,
   "metadata": {
    "collapsed": false
   },
   "outputs": [
    {
     "name": "stdout",
     "output_type": "stream",
     "text": [
      "73.2490961174\n"
     ]
    }
   ],
   "source": [
    "def loglik(y, x1, x2, weights, x1_der = False):\n",
    "    if x1_der:\n",
    "        lnLik_vector = []\n",
    "        for i in xrange(len(y)):\n",
    "            lnLik_i = y[i]*x1[i]*(1 - 1.0/(1+math.exp(-y[i]*(weights[0]*x1[i]+weights[1]*x2[i])))) \n",
    "            lnLik_vector.append(lnLik_i)\n",
    "    else:\n",
    "        lnLik_vector = []\n",
    "        for i in xrange(len(y)):\n",
    "            lnLik_i = y[i]*x2[i]*(1 - 1.0/(1+math.exp(-y[i]*(weights[0]*x1[i]+weights[1]*x2[i])))) \n",
    "            lnLik_vector.append(lnLik_i)\n",
    "    return(sum(lnLik_vector))\n",
    "\n",
    "print loglik(ytr, x1tr, x2tr, weights, x1_der = True)"
   ]
  },
  {
   "cell_type": "code",
   "execution_count": 154,
   "metadata": {
    "collapsed": false
   },
   "outputs": [
    {
     "name": "stdout",
     "output_type": "stream",
     "text": [
      "0.0\n"
     ]
    }
   ],
   "source": [
    "\n",
    "\n",
    "x1 = np.array([1, 2, 3])\n",
    "x2 = np.array([1, 2, 3])\n",
    "\n",
    "print euclid(x1, x2)\n"
   ]
  },
  {
   "cell_type": "markdown",
   "metadata": {},
   "source": []
  },
  {
   "cell_type": "code",
   "execution_count": null,
   "metadata": {
    "collapsed": true
   },
   "outputs": [],
   "source": []
  },
  {
   "cell_type": "code",
   "execution_count": 14,
   "metadata": {
    "collapsed": false
   },
   "outputs": [
    {
     "ename": "TypeError",
     "evalue": "can't multiply sequence by non-int of type 'list'",
     "output_type": "error",
     "traceback": [
      "\u001b[0;31m---------------------------------------------------------------------------\u001b[0m",
      "\u001b[0;31mTypeError\u001b[0m                                 Traceback (most recent call last)",
      "\u001b[0;32m<ipython-input-14-91f8e6853490>\u001b[0m in \u001b[0;36m<module>\u001b[0;34m()\u001b[0m\n\u001b[1;32m      1\u001b[0m \u001b[0my\u001b[0m \u001b[0;34m=\u001b[0m \u001b[0;34m[\u001b[0m\u001b[0;36m1\u001b[0m\u001b[0;34m,\u001b[0m\u001b[0;36m10\u001b[0m\u001b[0;34m]\u001b[0m\u001b[0;34m\u001b[0m\u001b[0m\n\u001b[1;32m      2\u001b[0m \u001b[0mx\u001b[0m \u001b[0;34m=\u001b[0m \u001b[0;34m[\u001b[0m\u001b[0;36m1\u001b[0m\u001b[0;34m,\u001b[0m\u001b[0;36m10\u001b[0m\u001b[0;34m]\u001b[0m\u001b[0;34m\u001b[0m\u001b[0m\n\u001b[0;32m----> 3\u001b[0;31m \u001b[0;32mprint\u001b[0m \u001b[0mx\u001b[0m\u001b[0;34m*\u001b[0m\u001b[0my\u001b[0m\u001b[0;34m\u001b[0m\u001b[0m\n\u001b[0m",
      "\u001b[0;31mTypeError\u001b[0m: can't multiply sequence by non-int of type 'list'"
     ]
    }
   ],
   "source": [
    "y = [1,10]\n",
    "x = [1,10]\n"
   ]
  },
  {
   "cell_type": "code",
   "execution_count": 185,
   "metadata": {
    "collapsed": false
   },
   "outputs": [
    {
     "data": {
      "text/plain": [
       "0.0"
      ]
     },
     "execution_count": 185,
     "metadata": {},
     "output_type": "execute_result"
    }
   ],
   "source": [
    "ytr = pandas.Series([1,2,3])\n",
    "x1tr = pandas.Series([1, 5, 3])\n",
    "x2tr = pandas.Series([4,8,2])\n",
    "weights = np.array([2,3])\n",
    "partial_derivative_lnLik(y = ytr, x1 = x1tr, x2 = x2tr, weights = weights, x1_der = True)\n"
   ]
  },
  {
   "cell_type": "code",
   "execution_count": 223,
   "metadata": {
    "collapsed": false
   },
   "outputs": [
    {
     "name": "stdout",
     "output_type": "stream",
     "text": [
      "-0.0\n",
      "1.0\n",
      "2.0\n",
      "0.5\n",
      "73.2490961174\n"
     ]
    }
   ],
   "source": [
    "x1tr = data[1]\n",
    "x2tr = data[2]\n",
    "ytr = data[0]\n",
    "weights = np.array([0,0])\n",
    "X = pandas.DataFrame([x1tr, x2tr]).as_matrix() # shape 2 * n\n",
    "w_X = weights.dot(X)\n",
    "#print np.transpose(ytr)\n",
    "inner_part_denominator_before_exp = - np.transpose(ytr).dot(w_X)\n",
    "print inner_part_denominator_before_exp\n",
    "print np.exp(inner_part_denominator_before_exp)\n",
    "inner_part_denominator = 1.0 + np.exp(inner_part_denominator_before_exp)\n",
    "print inner_part_denominator\n",
    "part1 = 1 - (1.0/inner_part_denominator)\n",
    "print part1\n",
    "total = np.transpose(y).dot(x1tr.as_matrix())*part1\n",
    "print total"
   ]
  },
  {
   "cell_type": "code",
   "execution_count": null,
   "metadata": {
    "collapsed": false
   },
   "outputs": [],
   "source": []
  },
  {
   "cell_type": "code",
   "execution_count": null,
   "metadata": {
    "collapsed": true
   },
   "outputs": [],
   "source": []
  }
 ],
 "metadata": {
  "kernelspec": {
   "display_name": "Python [Root]",
   "language": "python",
   "name": "Python [Root]"
  },
  "language_info": {
   "codemirror_mode": {
    "name": "ipython",
    "version": 2
   },
   "file_extension": ".py",
   "mimetype": "text/x-python",
   "name": "python",
   "nbconvert_exporter": "python",
   "pygments_lexer": "ipython2",
   "version": "2.7.12"
  }
 },
 "nbformat": 4,
 "nbformat_minor": 0
}
