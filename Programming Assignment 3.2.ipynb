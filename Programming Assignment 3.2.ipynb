{
 "cells": [
  {
   "cell_type": "markdown",
   "metadata": {},
   "source": [
    "# Programming Assignment 3.2"
   ]
  },
  {
   "cell_type": "code",
   "execution_count": 20,
   "metadata": {
    "collapsed": true
   },
   "outputs": [],
   "source": [
    "import pandas\n",
    "import numpy as np\n",
    "import csv\n",
    "from sklearn import neighbors, datasets, preprocessing, metrics, cross_validation\n"
   ]
  },
  {
   "cell_type": "code",
   "execution_count": 18,
   "metadata": {
    "collapsed": false
   },
   "outputs": [
    {
     "name": "stdout",
     "output_type": "stream",
     "text": [
      "     Crime    ZN  INDUS  CHAS    NOX     RM   AGE     DIS  RAD    TAX  \\\n",
      "0  0.00632  18.0   2.31     0  0.538  6.575  65.2  4.0900    1  296.0   \n",
      "1  0.02731   0.0   7.07     0  0.469  6.421  78.9  4.9671    2  242.0   \n",
      "2  0.02729   0.0   7.07     0  0.469  7.185  61.1  4.9671    2  242.0   \n",
      "3  0.03237   0.0   2.18     0  0.458  6.998  45.8  6.0622    3  222.0   \n",
      "4  0.06905   0.0   2.18     0  0.458  7.147  54.2  6.0622    3  222.0   \n",
      "\n",
      "   PTRATIO  BLACKS  LSTAT  MEDV  \n",
      "0     15.3  396.90   4.98  24.0  \n",
      "1     17.8  396.90   9.14  21.6  \n",
      "2     17.8  392.83   4.03  34.7  \n",
      "3     18.7  394.63   2.94  33.4  \n",
      "4     18.7  396.90   5.33  36.2  \n"
     ]
    }
   ],
   "source": [
    "names = pandas.read_csv('housing_attribute.csv',header = None)\n",
    "names = names[[0]].values[0:]\n",
    "data = pandas.read_csv('housing.csv', header = None)\n",
    "for i in xrange(len(data.columns)):\n",
    "    data.rename(columns = {i : str(names[i][0])}, inplace=True)\n",
    "\n",
    "print data.head()"
   ]
  },
  {
   "cell_type": "markdown",
   "metadata": {
    "collapsed": false
   },
   "source": [
    "Приведите признаки в выборке к одному масштабу при помощи функции sklearn.preprocessing.scale."
   ]
  },
  {
   "cell_type": "code",
   "execution_count": 47,
   "metadata": {
    "collapsed": false
   },
   "outputs": [],
   "source": [
    "X = data.iloc[ : , :13]\n",
    "#print X.head()\n",
    "X_scaled = preprocessing.scale(X)\n"
   ]
  },
  {
   "cell_type": "markdown",
   "metadata": {
    "collapsed": true
   },
   "source": [
    "Переберите разные варианты параметра метрики p по сетке от 1 до 10 с таким шагом, чтобы всего было протестировано 200 вариантов (используйте функцию numpy.linspace). Используйте KNeighborsRegressor с n_neighbors=5 и weights='distance' — данный параметр добавляет в алгоритм веса, зависящие от расстояния до ближайших соседей. В качестве метрики качества используйте среднеквадратичную ошибку (параметр scoring='mean_squared_error' у cross_val_score). Качество оценивайте, как и в предыдущем задании, с помощью кросс-валидации по 5 блокам с random_state = 42, не забудьте включить перемешивание выборки (shuffle=True).\n"
   ]
  },
  {
   "cell_type": "code",
   "execution_count": 53,
   "metadata": {
    "collapsed": false
   },
   "outputs": [
    {
     "name": "stdout",
     "output_type": "stream",
     "text": [
      "           mean_scores\n",
      "1.000000    -16.030647\n",
      "1.045226    -16.407839\n",
      "1.090452    -16.370697\n",
      "1.135678    -16.445716\n",
      "1.180905    -16.475058\n",
      "1.226131    -16.526432\n",
      "1.271357    -16.636709\n",
      "1.316583    -16.824224\n",
      "1.361809    -16.874209\n",
      "1.407035    -17.124899\n",
      "1.452261    -17.145232\n",
      "1.497487    -17.019360\n",
      "1.542714    -17.099132\n",
      "1.587940    -16.801327\n",
      "1.633166    -16.980745\n",
      "1.678392    -17.033459\n",
      "1.723618    -17.171642\n",
      "1.768844    -17.181679\n",
      "1.814070    -17.208264\n",
      "1.859296    -17.323680\n",
      "1.904523    -17.415119\n",
      "1.949749    -17.385662\n",
      "1.994975    -17.326039\n",
      "2.040201    -17.336967\n",
      "2.085427    -17.382649\n",
      "2.130653    -17.656698\n",
      "2.175879    -17.569895\n",
      "2.221106    -17.319503\n",
      "2.266332    -17.504732\n",
      "2.311558    -17.554494\n",
      "...                ...\n",
      "8.733668    -21.006107\n",
      "8.778894    -21.005786\n",
      "8.824121    -21.007206\n",
      "8.869347    -21.004147\n",
      "8.914573    -21.007171\n",
      "8.959799    -21.008263\n",
      "9.005025    -21.018102\n",
      "9.050251    -21.019162\n",
      "9.095477    -21.083361\n",
      "9.140704    -21.077466\n",
      "9.185930    -21.078517\n",
      "9.231156    -21.079037\n",
      "9.276382    -21.080059\n",
      "9.321608    -21.104978\n",
      "9.366834    -21.105843\n",
      "9.412060    -21.110568\n",
      "9.457286    -21.111525\n",
      "9.502513    -21.112469\n",
      "9.547739    -21.066155\n",
      "9.592965    -21.066512\n",
      "9.638191    -21.074814\n",
      "9.683417    -21.075721\n",
      "9.728643    -21.076615\n",
      "9.773869    -21.077498\n",
      "9.819095    -21.081264\n",
      "9.864322    -21.082127\n",
      "9.909548    -21.082979\n",
      "9.954774    -21.083819\n",
      "10.000000   -21.089703\n",
      "10.000000   -21.089703\n",
      "\n",
      "[201 rows x 1 columns]\n",
      "     mean_scores\n",
      "1.0   -16.030647\n"
     ]
    }
   ],
   "source": [
    "p_options = np.linspace(start = 1, stop = 10, num = 200)\n",
    "accuracy_across_p = pandas.DataFrame(columns=['mean_scores'])\n",
    "kfold = cross_validation.KFold(len(data.values), n_folds= 5, shuffle = True, random_state = 42)\n",
    "for p in p_options:\n",
    "    kneighbors = neighbors.KNeighborsRegressor(n_neighbors = 5, weights='distance', p = p)\n",
    "    scores = cross_validation.cross_val_score(kneighbors, X_scaled, data['MEDV'], cv = kfold,\n",
    "                                             scoring='mean_squared_error')\n",
    "    mean_scores = sum(scores)/len(scores)\n",
    "    df =  pandas.DataFrame(mean_scores, columns=['mean_scores'], index = [p])\n",
    "    accuracy_across_p = accuracy_across_k.append(df)\n",
    "    \n",
    "\n",
    "print accuracy_across_p[accuracy_across_p['mean_scores'] == accuracy_across_p['mean_scores'].max()]"
   ]
  },
  {
   "cell_type": "code",
   "execution_count": null,
   "metadata": {
    "collapsed": true
   },
   "outputs": [],
   "source": []
  }
 ],
 "metadata": {
  "kernelspec": {
   "display_name": "Python [Root]",
   "language": "python",
   "name": "Python [Root]"
  },
  "language_info": {
   "codemirror_mode": {
    "name": "ipython",
    "version": 2
   },
   "file_extension": ".py",
   "mimetype": "text/x-python",
   "name": "python",
   "nbconvert_exporter": "python",
   "pygments_lexer": "ipython2",
   "version": "2.7.12"
  }
 },
 "nbformat": 4,
 "nbformat_minor": 0
}
